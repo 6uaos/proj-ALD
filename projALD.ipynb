{
  "nbformat": 4,
  "nbformat_minor": 0,
  "metadata": {
    "colab": {
      "provenance": [],
      "authorship_tag": "ABX9TyMosiRZrSnscucv+eNe/kSX",
      "include_colab_link": true
    },
    "kernelspec": {
      "name": "python3",
      "display_name": "Python 3"
    },
    "language_info": {
      "name": "python"
    }
  },
  "cells": [
    {
      "cell_type": "markdown",
      "metadata": {
        "id": "view-in-github",
        "colab_type": "text"
      },
      "source": [
        "<a href=\"https://colab.research.google.com/github/uoahy-6uoas/proj-ALD/blob/booklist-append/projALD.ipynb\" target=\"_parent\"><img src=\"https://colab.research.google.com/assets/colab-badge.svg\" alt=\"Open In Colab\"/></a>"
      ]
    },
    {
      "cell_type": "code",
      "source": [
        "def dict_maker(isbn) -> dict:\n",
        "  from bs4 import BeautifulSoup\n",
        "  from urllib.request import urlopen\n",
        "\n",
        "  html = urlopen(\"https://www.aladin.co.kr/search/wsearchresult.aspx?SearchTarget=Used&KeyWord=\"+isbn+\"&KeyRecentPublish=0&OutStock=0&ViewType=Detail&CustReviewCount=0&CustReviewRank=0&KeyFullWord=\"+isbn+\"&KeyLastWord=\"+isbn+\"&CategorySearch=&chkKeyTitle=&chkKeyAuthor=&chkKeyPublisher=&chkKeyISBN=&chkKeyTag=&chkKeyTOC=&chkKeySubject=&SuggestKeyWord=\")\n",
        "  bs0bj = BeautifulSoup(html.read(),'html.parser') #html 전체 저장해놓고 있군..\n",
        "\n",
        "  bo_used = bs0bj.findAll(\"a\",{\"class\":\"bo_used\"}) #<a class=\"bo_used\" href=\"~~\">eBook</a> 같은 것 찾아줌\n",
        "  tmp_type, tmp_price, store_price =[], [], {}\n",
        "  used_store_html = []\n",
        "  for i in bo_used:\n",
        "    if '원' in i.get_text(): # get_text하면 eBook만 출력함\n",
        "      try:\n",
        "        tmp_price.append(int(''.join(i.get_text()[:-1].split(','))))\n",
        "      except:\n",
        "        tmp_price.append(100000000) #절판됐으면 엄두도 못 낼 가격으로 해서 배제해버리자\n",
        "    else:\n",
        "      tmp_type.append(i.get_text())\n",
        "    if '우주점' in i.get_text():\n",
        "      used_store_html.append('https://www.aladin.co.kr' + i.attrs['href'])\n",
        "\n",
        "  for i in range(len(tmp_type)):\n",
        "    if tmp_type[i]=='새책' or '알라딘' in tmp_type[i]:\n",
        "      try: #직배송 중고 있으면\n",
        "        store_price['직배송'] = min(tmp_price[i],store_price['직배송'])\n",
        "      except: #직배송 중고 없으면\n",
        "        store_price['직배송'] = tmp_price[i]\n",
        "  #타입에 물건이 없으면 <span class='bo_used'~~>로 바뀜\n",
        "  if used_store_html != []:\n",
        "    for i in used_store_html:\n",
        "      html = urlopen(i)\n",
        "      bs0bj = BeautifulSoup(html.read(),'html.parser')\n",
        "      price = bs0bj.findAll('span',{\"class\":\"Ere_fs20 Ere_sub_pink\"}) #가격 리스트를 전달 함\n",
        "      seller = bs0bj.findAll('li',{\"class\":\"Ere_store_name\"}) # 매장 리스트를 전달함\n",
        "        # findAll은 위에서부터 순서대로 찾아내서 같은 인덱스번호에 매장-가격 위치함\n",
        "      for j in range(len(price)):\n",
        "        for k in range(len(price)):\n",
        "          if seller[k].get_text()[4:] in store_price: #같은 매장에서는 최저가만\n",
        "            pass\n",
        "          else:\n",
        "            store_price[seller[k].get_text()[4:]] = int(''.join(price[k].get_text().split(\",\")))\n",
        "  else:\n",
        "    pass\n",
        "\n",
        "  try:\n",
        "    if store_price['직배송']==100000000: #절판인데 알라딘 직배송 중고가 없다면\n",
        "      del store_price['직배송']\n",
        "  except:\n",
        "    pass\n",
        "  if store_price == {}:\n",
        "    return {'절판된 책':isbn}\n",
        "  return store_price"
      ],
      "metadata": {
        "id": "oGaG5m-snFV-"
      },
      "execution_count": 1,
      "outputs": []
    },
    {
      "cell_type": "code",
      "source": [
        "import time\n",
        "\n",
        "every = []\n",
        "\n",
        "ii = time.time()\n",
        "\n",
        "while 1:\n",
        "  isbn = input('ISBN 하나씩 입력, q로 종료 : ')\n",
        "  i = time.time()\n",
        "  if isbn =='q' or isbn =='Q':\n",
        "    break\n",
        "  else:\n",
        "    every.append(dict_maker(isbn))\n",
        "  f = time.time()\n",
        "  print(f\"time recored : {f-i}s\")\n",
        "\n",
        "ff = time.time()\n",
        "\n",
        "'''\n",
        "9791191891287\n",
        "9791192579504\n",
        "9791156641131\n",
        "9791162241639\n",
        "9788968484698\n",
        "9788996991342\n",
        "'''\n",
        "print(f\"time recored : {ff-ii}s\")"
      ],
      "metadata": {
        "colab": {
          "base_uri": "https://localhost:8080/"
        },
        "id": "GNk3Qq9OG9Fb",
        "outputId": "0c258c28-6bf3-41c9-ab5d-f5efe33deff1"
      },
      "execution_count": 3,
      "outputs": [
        {
          "output_type": "stream",
          "name": "stdout",
          "text": [
            "ISBN 하나씩 입력, q로 종료 : 9791191891287\n",
            "time recored : 8.065971374511719s\n",
            "ISBN 하나씩 입력, q로 종료 : 9791192579504\n",
            "time recored : 5.763847589492798s\n",
            "ISBN 하나씩 입력, q로 종료 : 9791156641131\n",
            "time recored : 2.7826390266418457s\n",
            "ISBN 하나씩 입력, q로 종료 : 9791162241639\n",
            "time recored : 5.655170679092407s\n",
            "ISBN 하나씩 입력, q로 종료 : 9788968484698\n",
            "time recored : 6.033958673477173s\n",
            "ISBN 하나씩 입력, q로 종료 : 9788996991342\n",
            "time recored : 23.220924615859985s\n",
            "ISBN 하나씩 입력, q로 종료 : q\n",
            "time recored : 92.34708857536316s\n"
          ]
        },
        {
          "output_type": "execute_result",
          "data": {
            "text/plain": [
              "[{'직배송': 9700,\n",
              "  '잠실롯데월드타워점': 10600,\n",
              "  '부산덕천점': 10600,\n",
              "  '울산점': 10600,\n",
              "  '광주상무점': 10600,\n",
              "  '분당서현점': 10600,\n",
              "  '잠실새내역점': 10600,\n",
              "  '동탄2하나로마트점': 10600,\n",
              "  '신촌점': 10600,\n",
              "  '대학로점': 10600,\n",
              "  '목동점': 10600,\n",
              "  '수지점': 10600,\n",
              "  '신림점': 10600,\n",
              "  '건대점': 10600},\n",
              " {'직배송': 14400,\n",
              "  '신림점': 11200,\n",
              "  '잠실새내역점': 11200,\n",
              "  '수지점': 11200,\n",
              "  '동탄2하나로마트점': 11200,\n",
              "  '동탄점': 11300,\n",
              "  '잠실롯데월드타워점': 11300,\n",
              "  '산본점': 11300,\n",
              "  '강서홈플러스점': 11300,\n",
              "  '가로수길점': 11300},\n",
              " {'직배송': 47000},\n",
              " {'직배송': 22500,\n",
              "  '대전은행점': 10600,\n",
              "  '종로점': 12600,\n",
              "  '잠실롯데월드타워점': 13100,\n",
              "  '마산합성점': 13100,\n",
              "  '강서홈플러스점': 13100,\n",
              "  '수지점': 13100,\n",
              "  '부산센텀점': 13600,\n",
              "  '노원역점': 13600,\n",
              "  '일산점': 13600,\n",
              "  '인천계산홈플러스점': 13600,\n",
              "  '대전시청역점': 13600,\n",
              "  '부천점': 13600},\n",
              " {'범계점': 11100,\n",
              "  '부산서면점': 11100,\n",
              "  '대학로점': 11100,\n",
              "  '광주상무점': 11100,\n",
              "  '잠실롯데월드타워점': 11700,\n",
              "  '천호점': 11700,\n",
              "  '인천청라점': 11700,\n",
              "  '화정점': 11700,\n",
              "  '노원역점': 11700,\n",
              "  '영등포점': 12000,\n",
              "  '수지점': 12400,\n",
              "  '인천계산홈플러스점': 12400,\n",
              "  '부산덕천점': 12500},\n",
              " {'직배송': 8500,\n",
              "  '연신내점': 8300,\n",
              "  '평택점': 7600,\n",
              "  '김해점': 8300,\n",
              "  '천호점': 8300,\n",
              "  '목동점': 8600,\n",
              "  '합정점': 8600,\n",
              "  '잠실롯데월드타워점': 9400,\n",
              "  '잠실새내역점': 9000,\n",
              "  '수원시청역점': 9000,\n",
              "  '이수역점': 8700,\n",
              "  '인천청라점': 8900,\n",
              "  '영등포점': 9000,\n",
              "  '대학로점': 9400,\n",
              "  '범계점': 9400,\n",
              "  '천안신불당점': 9700,\n",
              "  '부산 경성대.부경대역점': 9700,\n",
              "  '대구상인점': 8700,\n",
              "  '광주상무점': 8700,\n",
              "  '청주점': 9100,\n",
              "  '건대점': 9100,\n",
              "  '노원역점': 9400,\n",
              "  '서울대입구역점': 9400,\n",
              "  '인천계산홈플러스점': 8400,\n",
              "  '인천구월점': 8900,\n",
              "  '신촌점': 9000,\n",
              "  '부산서면점': 9000,\n",
              "  '부산덕천점': 9000,\n",
              "  '인천송도점': 9400,\n",
              "  '광주충장로점': 8200,\n",
              "  '창원상남점': 8500,\n",
              "  '일산점': 10000}]"
            ]
          },
          "metadata": {},
          "execution_count": 3
        }
      ]
    },
    {
      "cell_type": "code",
      "source": [
        "def d2l(d) ->list:\n",
        "  tmp = []\n",
        "  for i in d:\n",
        "    tmp.append([i,d[i]])\n",
        "  return tmp"
      ],
      "metadata": {
        "id": "u_PEmmX6Kb-0"
      },
      "execution_count": 11,
      "outputs": []
    },
    {
      "cell_type": "code",
      "source": [
        "carted_all = []\n",
        "for i in every:\n",
        "  carted_all.append(d2l(i))"
      ],
      "metadata": {
        "id": "qZTm10NHLnVx"
      },
      "execution_count": 12,
      "outputs": []
    },
    {
      "cell_type": "code",
      "source": [
        "carted_all"
      ],
      "metadata": {
        "colab": {
          "base_uri": "https://localhost:8080/"
        },
        "id": "xNZhOFFhV3FU",
        "outputId": "f20963d0-a790-4eb1-f305-3b1daa04821d"
      },
      "execution_count": 13,
      "outputs": [
        {
          "output_type": "execute_result",
          "data": {
            "text/plain": [
              "[[['직배송', 9700],\n",
              "  ['잠실롯데월드타워점', 10600],\n",
              "  ['부산덕천점', 10600],\n",
              "  ['울산점', 10600],\n",
              "  ['광주상무점', 10600],\n",
              "  ['분당서현점', 10600],\n",
              "  ['잠실새내역점', 10600],\n",
              "  ['동탄2하나로마트점', 10600],\n",
              "  ['신촌점', 10600],\n",
              "  ['대학로점', 10600],\n",
              "  ['목동점', 10600],\n",
              "  ['수지점', 10600],\n",
              "  ['신림점', 10600],\n",
              "  ['건대점', 10600]],\n",
              " [['직배송', 14400],\n",
              "  ['신림점', 11200],\n",
              "  ['잠실새내역점', 11200],\n",
              "  ['수지점', 11200],\n",
              "  ['동탄2하나로마트점', 11200],\n",
              "  ['동탄점', 11300],\n",
              "  ['잠실롯데월드타워점', 11300],\n",
              "  ['산본점', 11300],\n",
              "  ['강서홈플러스점', 11300],\n",
              "  ['가로수길점', 11300]],\n",
              " [['직배송', 47000]],\n",
              " [['직배송', 22500],\n",
              "  ['대전은행점', 10600],\n",
              "  ['종로점', 12600],\n",
              "  ['잠실롯데월드타워점', 13100],\n",
              "  ['마산합성점', 13100],\n",
              "  ['강서홈플러스점', 13100],\n",
              "  ['수지점', 13100],\n",
              "  ['부산센텀점', 13600],\n",
              "  ['노원역점', 13600],\n",
              "  ['일산점', 13600],\n",
              "  ['인천계산홈플러스점', 13600],\n",
              "  ['대전시청역점', 13600],\n",
              "  ['부천점', 13600]],\n",
              " [['범계점', 11100],\n",
              "  ['부산서면점', 11100],\n",
              "  ['대학로점', 11100],\n",
              "  ['광주상무점', 11100],\n",
              "  ['잠실롯데월드타워점', 11700],\n",
              "  ['천호점', 11700],\n",
              "  ['인천청라점', 11700],\n",
              "  ['화정점', 11700],\n",
              "  ['노원역점', 11700],\n",
              "  ['영등포점', 12000],\n",
              "  ['수지점', 12400],\n",
              "  ['인천계산홈플러스점', 12400],\n",
              "  ['부산덕천점', 12500]],\n",
              " [['직배송', 8500],\n",
              "  ['연신내점', 8300],\n",
              "  ['평택점', 7600],\n",
              "  ['김해점', 8300],\n",
              "  ['천호점', 8300],\n",
              "  ['목동점', 8600],\n",
              "  ['합정점', 8600],\n",
              "  ['잠실롯데월드타워점', 9400],\n",
              "  ['잠실새내역점', 9000],\n",
              "  ['수원시청역점', 9000],\n",
              "  ['이수역점', 8700],\n",
              "  ['인천청라점', 8900],\n",
              "  ['영등포점', 9000],\n",
              "  ['대학로점', 9400],\n",
              "  ['범계점', 9400],\n",
              "  ['천안신불당점', 9700],\n",
              "  ['부산 경성대.부경대역점', 9700],\n",
              "  ['대구상인점', 8700],\n",
              "  ['광주상무점', 8700],\n",
              "  ['청주점', 9100],\n",
              "  ['건대점', 9100],\n",
              "  ['노원역점', 9400],\n",
              "  ['서울대입구역점', 9400],\n",
              "  ['인천계산홈플러스점', 8400],\n",
              "  ['인천구월점', 8900],\n",
              "  ['신촌점', 9000],\n",
              "  ['부산서면점', 9000],\n",
              "  ['부산덕천점', 9000],\n",
              "  ['인천송도점', 9400],\n",
              "  ['광주충장로점', 8200],\n",
              "  ['창원상남점', 8500],\n",
              "  ['일산점', 10000]]]"
            ]
          },
          "metadata": {},
          "execution_count": 13
        }
      ]
    },
    {
      "cell_type": "code",
      "source": [
        "#dfs가 필요하다.."
      ],
      "metadata": {
        "id": "6vNS9Wj3V4nk"
      },
      "execution_count": 14,
      "outputs": []
    }
  ]
}