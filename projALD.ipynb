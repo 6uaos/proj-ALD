{
  "nbformat": 4,
  "nbformat_minor": 0,
  "metadata": {
    "colab": {
      "provenance": [],
      "authorship_tag": "ABX9TyOMHCVdMXFGKfUFXftDtJT+",
      "include_colab_link": true
    },
    "kernelspec": {
      "name": "python3",
      "display_name": "Python 3"
    },
    "language_info": {
      "name": "python"
    }
  },
  "cells": [
    {
      "cell_type": "markdown",
      "metadata": {
        "id": "view-in-github",
        "colab_type": "text"
      },
      "source": [
        "<a href=\"https://colab.research.google.com/github/uoahy-6uoas/proj-ALD/blob/main/projALD.ipynb\" target=\"_parent\"><img src=\"https://colab.research.google.com/assets/colab-badge.svg\" alt=\"Open In Colab\"/></a>"
      ]
    },
    {
      "cell_type": "markdown",
      "source": [
        "<h1>projALD</h1>\n",
        "concept : 사고 싶은 책들의 ISBN을 입력하면 (새책,중고,배송비를 고려한) 최저가로 구매할 수 있도록 알라딘 장바구니에 추가할 상품들을 추천해줌"
      ],
      "metadata": {
        "id": "nFIER14oRPbT"
      }
    },
    {
      "cell_type": "code",
      "source": [
        "from bs4 import BeautifulSoup\n",
        "from urllib.request import urlopen\n",
        "import re\n",
        "\n",
        "isbn = input() #isbn 알아오면 가격 알려줌\n",
        "html = urlopen(\"https://www.aladin.co.kr/search/wsearchresult.aspx?SearchTarget=Used&KeyWord=\"+isbn+\"&KeyRecentPublish=0&OutStock=0&ViewType=Detail&CustReviewCount=0&CustReviewRank=0&KeyFullWord=9791162241639&KeyLastWord=9791162241639&CategorySearch=&chkKeyTitle=&chkKeyAuthor=&chkKeyPublisher=&chkKeyISBN=&chkKeyTag=&chkKeyTOC=&chkKeySubject=&SuggestKeyWord=\")\n",
        "bs0bj = BeautifulSoup(html.read(),'html.parser')"
      ],
      "metadata": {
        "colab": {
          "base_uri": "https://localhost:8080/"
        },
        "id": "kpU0ns1pF5we",
        "outputId": "aef94f79-c14c-41d7-d71b-86cab45d6792"
      },
      "execution_count": 22,
      "outputs": [
        {
          "name": "stdout",
          "output_type": "stream",
          "text": [
            "9791162241639\n"
          ]
        }
      ]
    },
    {
      "cell_type": "code",
      "source": [
        "bo_used = bs0bj.findAll(\"a\",{\"class\":\"bo_used\"})\n",
        "tmp = ''\n",
        "for i in bo_used:\n",
        "  if '원' in i.get_text():\n",
        "    tmp = i.attrs['href']\n",
        "    print(i.attrs['href'])\n",
        "    print(int(''.join(i.get_text()[:-1].split(\",\"))))\n",
        "    break\n",
        "\n",
        "tmp1 = \"https://www.aladin.co.kr/shop/UsedShop/wuseditemall.aspx?ItemId=\"+tmp.split('ItemId=')[-1]+\"&TabType=3\""
      ],
      "metadata": {
        "colab": {
          "base_uri": "https://localhost:8080/"
        },
        "id": "flcVNVRSGCZN",
        "outputId": "d762ca71-54b5-49fc-fc0d-0481a788cc91"
      },
      "execution_count": 23,
      "outputs": [
        {
          "output_type": "stream",
          "name": "stdout",
          "text": [
            "https://www.aladin.co.kr/shop/wproduct.aspx?ItemId=187043457\n",
            "22500\n"
          ]
        }
      ]
    },
    {
      "cell_type": "code",
      "source": [
        "print(tmp1)\n",
        "html = urlopen(tmp1)\n",
        "bs0bj = BeautifulSoup(html.read(),'html.parser')\n",
        "price = bs0bj.findAll('span',{\"class\":\"Ere_fs20 Ere_sub_pink\"})\n",
        "seller = bs0bj.findAll('li',{\"class\":\"Ere_store_name\"})"
      ],
      "metadata": {
        "colab": {
          "base_uri": "https://localhost:8080/"
        },
        "id": "F73YA4RdHOjo",
        "outputId": "9bdcf4d6-7881-482e-8233-8d1f7919a543"
      },
      "execution_count": 24,
      "outputs": [
        {
          "output_type": "stream",
          "name": "stdout",
          "text": [
            "https://www.aladin.co.kr/shop/UsedShop/wuseditemall.aspx?ItemId=187043457&TabType=3\n"
          ]
        }
      ]
    },
    {
      "cell_type": "code",
      "source": [
        "sp = {}\n",
        "\n",
        "for i in range(len(price)):\n",
        "  sp[seller[i].get_text()[4:]] = int(''.join(price[i].get_text().split(\",\")))\n",
        "\n",
        "sp"
      ],
      "metadata": {
        "colab": {
          "base_uri": "https://localhost:8080/"
        },
        "id": "4Vvkx8fELrKp",
        "outputId": "ad559ac5-dea3-4a3a-8037-7e701f188409"
      },
      "execution_count": 26,
      "outputs": [
        {
          "output_type": "execute_result",
          "data": {
            "text/plain": [
              "{'대전은행점': 10600,\n",
              " '종로점': 13600,\n",
              " '분당야탑점': 12600,\n",
              " '잠실롯데월드타워점': 13100,\n",
              " '마산합성점': 13100,\n",
              " '강서홈플러스점': 13100,\n",
              " '수지점': 13100,\n",
              " '부산센텀점': 13600,\n",
              " '노원역점': 13600,\n",
              " '일산점': 13600,\n",
              " '인천계산홈플러스점': 13600,\n",
              " '대전시청역점': 13600,\n",
              " '부천점': 13600}"
            ]
          },
          "metadata": {},
          "execution_count": 26
        }
      ]
    }
  ]
}