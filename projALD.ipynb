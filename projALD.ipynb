{
  "nbformat": 4,
  "nbformat_minor": 0,
  "metadata": {
    "colab": {
      "provenance": [],
      "authorship_tag": "ABX9TyNl7QLPCkBZ5/g7jLedAs7W"
    },
    "kernelspec": {
      "name": "python3",
      "display_name": "Python 3"
    },
    "language_info": {
      "name": "python"
    }
  },
  "cells": [
    {
      "cell_type": "markdown",
      "source": [
        "ISBN이 edition마다 다르지 않다는 사실을 알았음.. <br>\n",
        "일단 같은 내용이니 같은 ISBN인 책 전부다 긁어 모은 최저가를 제시하자<br>"
      ],
      "metadata": {
        "id": "BOJeQP4ro3wf"
      }
    },
    {
      "cell_type": "code",
      "source": [
        "from bs4 import BeautifulSoup\n",
        "from urllib.request import urlopen\n",
        "\n",
        "isbn = input('여기에 ISBN입력 : ') #9791191891287-희망1편, 9791192579504-희망2편, 9791156641131-절망편, 9791162241639-희망3편, 9788968484698-절판1편, 9788996991342-절판2편\n",
        "html = urlopen(\"https://www.aladin.co.kr/search/wsearchresult.aspx?SearchTarget=Used&KeyWord=\"+isbn+\"&KeyRecentPublish=0&OutStock=0&ViewType=Detail&CustReviewCount=0&CustReviewRank=0&KeyFullWord=\"+isbn+\"&KeyLastWord=\"+isbn+\"&CategorySearch=&chkKeyTitle=&chkKeyAuthor=&chkKeyPublisher=&chkKeyISBN=&chkKeyTag=&chkKeyTOC=&chkKeySubject=&SuggestKeyWord=\")\n",
        "print(\"https://www.aladin.co.kr/search/wsearchresult.aspx?SearchTarget=Used&KeyWord=\"+isbn+\"&KeyRecentPublish=0&OutStock=0&ViewType=Detail&CustReviewCount=0&CustReviewRank=0&KeyFullWord=\"+isbn+\"&KeyLastWord=\"+isbn+\"&CategorySearch=&chkKeyTitle=&chkKeyAuthor=&chkKeyPublisher=&chkKeyISBN=&chkKeyTag=&chkKeyTOC=&chkKeySubject=&SuggestKeyWord=\")\n",
        "bs0bj = BeautifulSoup(html.read(),'html.parser') #html 전체 저장해놓고 있군.."
      ],
      "metadata": {
        "id": "kpU0ns1pF5we",
        "colab": {
          "base_uri": "https://localhost:8080/"
        },
        "outputId": "c87796c8-d43d-49f0-cf9c-24407c0e142e"
      },
      "execution_count": 1,
      "outputs": [
        {
          "output_type": "stream",
          "name": "stdout",
          "text": [
            "여기에 ISBN입력 : 9791191891287\n",
            "https://www.aladin.co.kr/search/wsearchresult.aspx?SearchTarget=Used&KeyWord=9791191891287&KeyRecentPublish=0&OutStock=0&ViewType=Detail&CustReviewCount=0&CustReviewRank=0&KeyFullWord=9791191891287&KeyLastWord=9791191891287&CategorySearch=&chkKeyTitle=&chkKeyAuthor=&chkKeyPublisher=&chkKeyISBN=&chkKeyTag=&chkKeyTOC=&chkKeySubject=&SuggestKeyWord=\n"
          ]
        }
      ]
    },
    {
      "cell_type": "code",
      "source": [
        "bo_used = bs0bj.findAll(\"a\",{\"class\":\"bo_used\"}) #<a class=\"bo_used\" href=\"~~\">eBook</a> 같은 것 찾아줌\n",
        "tmp_type, tmp_price, store_price =[], [], {}\n",
        "used_store_html = []\n",
        "for i in bo_used:\n",
        "  if '원' in i.get_text(): # get_text하면 eBook만 출력함\n",
        "    try:\n",
        "      tmp_price.append(int(''.join(i.get_text()[:-1].split(','))))\n",
        "    except:\n",
        "      print(\"절판된 책\")\n",
        "      tmp_price.append(100000000) #절판됐으면 엄두도 못 낼 가격으로 해서 배제해버리자\n",
        "  else:\n",
        "    tmp_type.append(i.get_text())\n",
        "  if '우주점' in i.get_text():\n",
        "    print(i)\n",
        "    used_store_html.append('https://www.aladin.co.kr' + i.attrs['href'])\n",
        "\n",
        "print(tmp_type, tmp_price, used_store_html)\n",
        "\n",
        "for i in range(len(tmp_type)):\n",
        "  if tmp_type[i]=='새책' or '알라딘' in tmp_type[i]:\n",
        "    try: #직배송 중고 있으면\n",
        "      store_price['직배송'] = min(tmp_price[i],store_price['직배송'])\n",
        "    except: #직배송 중고 없으면\n",
        "      store_price['직배송'] = tmp_price[i]\n",
        "\n",
        "#타입에 물건이 없으면 <span class='bo_used' ~~>로 바뀜"
      ],
      "metadata": {
        "id": "flcVNVRSGCZN",
        "colab": {
          "base_uri": "https://localhost:8080/"
        },
        "outputId": "3b0953e2-31aa-4217-8e0d-e693bb81f767"
      },
      "execution_count": 2,
      "outputs": [
        {
          "output_type": "stream",
          "name": "stdout",
          "text": [
            "<a class=\"bo_used\" href=\"/shop/UsedShop/wuseditemall.aspx?ItemId=312220558&amp;TabType=3\">이 광활한 우주점 <br/><span class=\"bo_used_s\">(15)</span> </a>\n",
            "['새책', 'eBook', '알라딘 중고 (1)', '이 광활한 우주점 (15) ', '판매자 중고 (33)'] [13500, 10500, 10500, 10600, 6000] ['https://www.aladin.co.kr/shop/UsedShop/wuseditemall.aspx?ItemId=312220558&TabType=3']\n"
          ]
        }
      ]
    },
    {
      "cell_type": "code",
      "source": [
        "print(used_store_html)\n",
        "if used_store_html != []:\n",
        "  for i in used_store_html:\n",
        "    html = urlopen(i)\n",
        "    bs0bj = BeautifulSoup(html.read(),'html.parser')\n",
        "    price = bs0bj.findAll('span',{\"class\":\"Ere_fs20 Ere_sub_pink\"}) #가격 리스트를 전달 함\n",
        "    seller = bs0bj.findAll('li',{\"class\":\"Ere_store_name\"}) # 매장 리스트를 전달함\n",
        "      # findAll은 위에서부터 순서대로 찾아내서 같은 인덱스번호에 매장-가격 위치함\n",
        "    for j in range(len(price)):\n",
        "      print(seller[j].get_text(), end=' : ')\n",
        "      print(price[j].get_text())\n",
        "      for k in range(len(price)):\n",
        "        if seller[k].get_text()[4:] in store_price: #같은 매장에서는 최저가만\n",
        "          pass\n",
        "        else:\n",
        "          store_price[seller[k].get_text()[4:]] = int(''.join(price[k].get_text().split(\",\")))\n",
        "else:\n",
        "  print(\"중고매장에 책 없음\")"
      ],
      "metadata": {
        "id": "F73YA4RdHOjo",
        "colab": {
          "base_uri": "https://localhost:8080/"
        },
        "outputId": "46cadf4d-7d7f-4668-83a8-064fb463b00d"
      },
      "execution_count": 3,
      "outputs": [
        {
          "output_type": "stream",
          "name": "stdout",
          "text": [
            "['https://www.aladin.co.kr/shop/UsedShop/wuseditemall.aspx?ItemId=312220558&TabType=3']\n",
            "중고매장잠실롯데월드타워점 : 10,600\n",
            "중고매장부산덕천점 : 10,600\n",
            "중고매장울산점 : 10,600\n",
            "중고매장광주상무점 : 10,600\n",
            "중고매장분당서현점 : 10,600\n",
            "중고매장잠실새내역점 : 10,600\n",
            "중고매장동탄2하나로마트점 : 10,600\n",
            "중고매장신촌점 : 10,600\n",
            "중고매장대학로점 : 10,600\n",
            "중고매장목동점 : 10,600\n",
            "중고매장수지점 : 10,600\n",
            "중고매장신림점 : 10,600\n",
            "중고매장목동점 : 10,600\n",
            "중고매장신림점 : 10,600\n",
            "중고매장건대점 : 10,600\n"
          ]
        }
      ]
    },
    {
      "cell_type": "code",
      "source": [
        "try:\n",
        "  if store_price['직배송']==100000000: #절판인데 알라딘 직배송 중고가 없다면\n",
        "    del store_price['직배송']\n",
        "except:\n",
        "  pass\n",
        "store_price"
      ],
      "metadata": {
        "id": "xB6MuLxPILAh",
        "colab": {
          "base_uri": "https://localhost:8080/"
        },
        "outputId": "e6842a67-cf62-4a66-d9f4-fcff6d2d622c"
      },
      "execution_count": 4,
      "outputs": [
        {
          "output_type": "execute_result",
          "data": {
            "text/plain": [
              "{'직배송': 10500,\n",
              " '잠실롯데월드타워점': 10600,\n",
              " '부산덕천점': 10600,\n",
              " '울산점': 10600,\n",
              " '광주상무점': 10600,\n",
              " '분당서현점': 10600,\n",
              " '잠실새내역점': 10600,\n",
              " '동탄2하나로마트점': 10600,\n",
              " '신촌점': 10600,\n",
              " '대학로점': 10600,\n",
              " '목동점': 10600,\n",
              " '수지점': 10600,\n",
              " '신림점': 10600,\n",
              " '건대점': 10600}"
            ]
          },
          "metadata": {},
          "execution_count": 4
        }
      ]
    },
    {
      "cell_type": "code",
      "source": [],
      "metadata": {
        "id": "oGaG5m-snFV-"
      },
      "execution_count": 4,
      "outputs": []
    }
  ]
}